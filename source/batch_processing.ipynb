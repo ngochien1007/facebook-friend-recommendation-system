{
  "cells": [
    {
      "cell_type": "markdown",
      "source": [
        "# **Connect to Azure Data Lake Storage Gen2**\n",
        "\n",
        "\n"
      ],
      "metadata": {
        "id": "ESyIpaCV5Z6Z"
      }
    },
    {
      "cell_type": "code",
      "execution_count": null,
      "metadata": {
        "application/vnd.databricks.v1+cell": {
          "cellMetadata": {
            "byteLimit": 2048000,
            "rowLimit": 10000
          },
          "inputWidgets": {},
          "nuid": "44681d66-53c6-4c35-8e1b-470f55e7a7c7",
          "showTitle": false,
          "title": ""
        },
        "id": "cd0Hk2qOnJlx"
      },
      "outputs": [],
      "source": [
        "service_credential = dbutils.secrets.get(scope=\"mxh-key\",key=\"mxh-secret\")\n",
        "spark.conf.set(\"fs.azure.account.auth.type.mxh.dfs.core.windows.net\", \"OAuth\")\n",
        "spark.conf.set(\"fs.azure.account.oauth.provider.type.mxh.dfs.core.windows.net\", \"org.apache.hadoop.fs.azurebfs.oauth2.ClientCredsTokenProvider\")\n",
        "spark.conf.set(\"fs.azure.account.oauth2.client.id.mxh.dfs.core.windows.net\", \"8b09a262-1ab7-4a30-a982-dfab6de4b3fc\")\n",
        "spark.conf.set(\"fs.azure.account.oauth2.client.secret.mxh.dfs.core.windows.net\", service_credential)\n",
        "spark.conf.set(\"fs.azure.account.oauth2.client.endpoint.mxh.dfs.core.windows.net\", \"https://login.microsoftonline.com/2dff09ac-2b3b-4182-9953-2b548e0d0b39/oauth2/token\")"
      ]
    },
    {
      "cell_type": "markdown",
      "source": [
        "# **Create 4 dataframes for 4 partitions**"
      ],
      "metadata": {
        "id": "8a0UiDnf5ks5"
      }
    },
    {
      "cell_type": "code",
      "execution_count": null,
      "metadata": {
        "application/vnd.databricks.v1+cell": {
          "cellMetadata": {
            "byteLimit": 2048000,
            "rowLimit": 10000
          },
          "inputWidgets": {},
          "nuid": "ef446f34-2f8f-48f4-8cee-14127b19e464",
          "showTitle": false,
          "title": ""
        },
        "id": "W5DMVe80nJmH"
      },
      "outputs": [],
      "source": [
        "# Read 4 partition files and create 4 dataframes\n",
        "df1 = spark.read.format(\"csv\").load(\"abfss://output@mxh.dfs.core.windows.net/facebook_partition_1.csv\")\n",
        "df2 = spark.read.format(\"csv\").load(\"abfss://output@mxh.dfs.core.windows.net/facebook_partition_2.csv\")\n",
        "df3 = spark.read.format(\"csv\").load(\"abfss://output@mxh.dfs.core.windows.net/facebook_partition_3.csv\")\n",
        "df4 = spark.read.format(\"csv\").load(\"abfss://output@mxh.dfs.core.windows.net/facebook_partition_4.csv\")"
      ]
    },
    {
      "cell_type": "code",
      "execution_count": null,
      "metadata": {
        "application/vnd.databricks.v1+cell": {
          "cellMetadata": {
            "byteLimit": 2048000,
            "rowLimit": 10000
          },
          "inputWidgets": {},
          "nuid": "bc0fc44d-fb0c-44aa-9584-8e4fd6381f9a",
          "showTitle": false,
          "title": ""
        },
        "id": "iYgNiLQRnJmR",
        "outputId": "45e89013-12de-4743-9567-0b383c460cf9"
      },
      "outputs": [
        {
          "output_type": "execute_result",
          "data": {
            "text/plain": [
              "88234"
            ]
          },
          "execution_count": 8,
          "metadata": {}
        }
      ],
      "source": [
        "# Union 4 dataframes above\n",
        "df_facebook = df1.union(df2).union(df3).union(df4)\n",
        "# Count the number of rows in df_facebook\n",
        "df_facebook.count()"
      ]
    },
    {
      "cell_type": "markdown",
      "source": [
        "# **Install module 'faker' và import libraries**"
      ],
      "metadata": {
        "id": "YKM2MjMH6T3g"
      }
    },
    {
      "cell_type": "code",
      "execution_count": null,
      "metadata": {
        "application/vnd.databricks.v1+cell": {
          "cellMetadata": {
            "byteLimit": 2048000,
            "rowLimit": 10000
          },
          "inputWidgets": {},
          "nuid": "665ca3ba-fb55-4762-8d49-f59e427fd4b2",
          "showTitle": false,
          "title": ""
        },
        "id": "E_v_wE_2nJma",
        "outputId": "99b4c6cd-032a-4bb1-b041-5fdb594c891a"
      },
      "outputs": [
        {
          "output_type": "stream",
          "name": "stdout",
          "text": [
            "\u001b[43mNote: you may need to restart the kernel using dbutils.library.restartPython() to use updated packages.\u001b[0m\nCollecting faker\n  Downloading Faker-20.1.0-py3-none-any.whl (1.7 MB)\n     ━━━━━━━━━━━━━━━━━━━━━━━━━━━━━━━━━━━━━━━━ 1.7/1.7 MB 23.7 MB/s eta 0:00:00\nRequirement already satisfied: python-dateutil>=2.4 in /databricks/python3/lib/python3.10/site-packages (from faker) (2.8.2)\nRequirement already satisfied: six>=1.5 in /usr/lib/python3/dist-packages (from python-dateutil>=2.4->faker) (1.16.0)\nInstalling collected packages: faker\nSuccessfully installed faker-20.1.0\n\u001b[43mNote: you may need to restart the kernel using dbutils.library.restartPython() to use updated packages.\u001b[0m\n"
          ]
        }
      ],
      "source": [
        "# Install module 'faker'\n",
        "!pip install faker"
      ]
    },
    {
      "cell_type": "code",
      "execution_count": null,
      "metadata": {
        "application/vnd.databricks.v1+cell": {
          "cellMetadata": {
            "byteLimit": 2048000,
            "rowLimit": 10000
          },
          "inputWidgets": {},
          "nuid": "bb9b2bcb-3c96-4df9-91ec-ebb9ca10be01",
          "showTitle": false,
          "title": ""
        },
        "id": "QqX1rC7SnJmi"
      },
      "outputs": [],
      "source": [
        "# Import libraries\n",
        "from pyspark import SparkContext, SparkConf\n",
        "from pyspark.conf import SparkConf\n",
        "from pyspark.sql import SparkSession, HiveContext\n",
        "from pyspark.sql.functions import lit, col, when, row_number\n",
        "from pyspark.sql.window import Window\n",
        "from faker import Faker"
      ]
    },
    {
      "cell_type": "markdown",
      "source": [
        "# **Functions to randomly generate name and age**"
      ],
      "metadata": {
        "id": "5dL-Ssz56l7Q"
      }
    },
    {
      "cell_type": "code",
      "execution_count": null,
      "metadata": {
        "application/vnd.databricks.v1+cell": {
          "cellMetadata": {
            "byteLimit": 2048000,
            "rowLimit": 10000
          },
          "inputWidgets": {},
          "nuid": "53dddc21-9e79-4b2f-a234-13c16c9b780d",
          "showTitle": false,
          "title": ""
        },
        "id": "SprSEdECnJmv"
      },
      "outputs": [],
      "source": [
        "# Function random name and cast to dataframe\n",
        "def create_df_name(faker):\n",
        "\trandom_names = [faker.name() for _ in range(4039)]\n",
        "\tdf_name = spark.createDataFrame([(name,) for name in random_names], [\"UserName\"])\n",
        "\treturn df_name\n",
        "\n",
        "\n",
        "# Function random age and cast to dataframe\n",
        "def create_df_age(faker):\n",
        "    # Number of rows\n",
        "    num_records = 4039\n",
        "\n",
        "    # Random Ages\n",
        "    random_ages = [faker.random_int(min=18, max=25) for _ in range(num_records)]\n",
        "\n",
        "    # Create DataFrame with a single column \"UserAge\"\n",
        "    df_age = spark.createDataFrame([(age,) for age in random_ages], [\"UserAge\"])\n",
        "\n",
        "    return df_age"
      ]
    },
    {
      "cell_type": "markdown",
      "source": [
        "# **Functions to map data suitably between FromUser and ToUser**\n"
      ],
      "metadata": {
        "id": "lbx4xXnI6uyL"
      }
    },
    {
      "cell_type": "code",
      "execution_count": null,
      "metadata": {
        "application/vnd.databricks.v1+cell": {
          "cellMetadata": {
            "byteLimit": 2048000,
            "rowLimit": 10000
          },
          "inputWidgets": {},
          "nuid": "27283bb7-3491-4675-b940-d0c51111821a",
          "showTitle": false,
          "title": ""
        },
        "id": "oLxVbmVMnJm6"
      },
      "outputs": [],
      "source": [
        "# Function for change column name\n",
        "def change_column_name(dataframe, column_0, column_1):\n",
        "\tdf_temp = dataframe.withColumnRenamed('_c0', column_0)\n",
        "\tdf = df_temp.withColumnRenamed('_c1', column_1)\n",
        "\treturn df\n",
        "\n",
        "# Function for change column name after join\n",
        "def change_column_join(dataframe, column_0, column_1):\n",
        "\tdf_temp = dataframe.withColumnRenamed('UserName', column_0)\n",
        "\tdf = df_temp.withColumnRenamed('UserAge', column_1)\n",
        "\treturn df\n",
        "\n",
        "\n",
        "# Match Data FromUser\n",
        "def match_data_userfrom(df_facebook_graph, df_name, df_age):\n",
        "\t# Cast FromUser to Int\n",
        "\tdf_facebook_graph = df_facebook_graph.withColumn(\"FromUser\", df_facebook_graph[\"FromUser\"].cast(\"int\"))\n",
        "\n",
        "# Join DataFrame df_facebook_graph with df_name for information FromUser\n",
        "\tdf_facebook_graph = df_facebook_graph.join(df_name, df_facebook_graph[\"FromUser\"] == df_name[\"Id\"], \"left\").drop(\"Id\")\n",
        "\n",
        "# Join DataFrame df_facebook_graph with df_age for information FromUser\n",
        "\tdf_facebook_graph = df_facebook_graph.join(df_age, df_facebook_graph[\"FromUser\"] == df_age[\"Id\"], \"left\").drop(\"Id\")\n",
        "\n",
        "\treturn df_facebook_graph\n",
        "\n",
        "# Match Data ToUser\n",
        "def match_data_userto(df_facebook_graph, df_name, df_age):\n",
        "\t# Cast FromUser to Int\n",
        "\tdf_facebook_graph = df_facebook_graph.withColumn(\"ToUser\", df_facebook_graph[\"ToUser\"].cast(\"int\"))\n",
        "\n",
        "\t# Join DataFrame df_facebook_graph with df_name for information FromUser\n",
        "\tdf_facebook_graph = df_facebook_graph.join(df_name, df_facebook_graph[\"ToUser\"] == df_name[\"Id\"], \"left\").drop(\"Id\")\n",
        "\n",
        "\t# Join DataFrame df_facebook_graph with df_age for information FromUser\n",
        "\tdf_facebook_graph = df_facebook_graph.join(df_age, df_facebook_graph[\"ToUser\"] == df_age[\"Id\"], \"left\").drop(\"Id\")\n",
        "\n",
        "\treturn df_facebook_graph\n",
        "\n",
        "# Create dataframe df_facebook_graph\n",
        "def join_dataframe(df_facebook_graph, df_name, df_age):\n",
        "\t# Make an identiy\n",
        "\tw = Window().orderBy(lit('A'))\n",
        "\n",
        "\t# Create an identity for df_name, df_age\n",
        "\tdf_name = df_name.withColumn('Id', row_number().over(w) - 1)\n",
        "\tdf_age = df_age.withColumn('Id', row_number().over(w) - 1)\n",
        "\n",
        "\t# Mapping data for df_facebook_graph with UserFrom\n",
        "\tdf_facebook_graph = match_data_userfrom(df_facebook_graph, df_name, df_age)\n",
        "\t# Change column name\n",
        "\tcolumn0 = 'UserNameFrom'\n",
        "\tcolumn1 = 'UserAgeFrom'\n",
        "\tdf_facebook_graph = change_column_join(df_facebook_graph, column0, column1)\n",
        "\n",
        "\n",
        "\t# Mapping data for df_facebook_graph with UserFrom\n",
        "\tdf_facebook_graph = match_data_userto(df_facebook_graph, df_name, df_age)\n",
        "\t# Change column name\n",
        "\tcolumn0 = 'UserNameTo'\n",
        "\tcolumn1 = 'UserAgeTo'\n",
        "\tdf_facebook_graph = change_column_join(df_facebook_graph, column0, column1)\n",
        "\n",
        "\n",
        "\treturn df_facebook_graph\n",
        "\n"
      ]
    },
    {
      "cell_type": "markdown",
      "source": [
        "# **Using functions above to create the final data file**"
      ],
      "metadata": {
        "id": "xfs5zUEI7A5e"
      }
    },
    {
      "cell_type": "code",
      "execution_count": null,
      "metadata": {
        "application/vnd.databricks.v1+cell": {
          "cellMetadata": {
            "byteLimit": 2048000,
            "rowLimit": 10000
          },
          "inputWidgets": {},
          "nuid": "4969cdc1-119b-4162-8404-dbf8ee69fc11",
          "showTitle": false,
          "title": ""
        },
        "id": "A5yYMACNnJm9",
        "outputId": "202f5189-3b54-47e7-b602-d45b1cdefd6a"
      },
      "outputs": [
        {
          "output_type": "stream",
          "name": "stdout",
          "text": [
            "+--------+------+---------------+-----------+--------------------+---------+\n|FromUser|ToUser|   UserNameFrom|UserAgeFrom|          UserNameTo|UserAgeTo|\n+--------+------+---------------+-----------+--------------------+---------+\n|       0|     1|Laura Frederick|         21|      Robert Maxwell|       24|\n|       0|     2|Laura Frederick|         21|       Sharon Murray|       21|\n|       0|     3|Laura Frederick|         21|        Brian Martin|       23|\n|       0|     4|Laura Frederick|         21|      Larry Townsend|       24|\n|       0|     5|Laura Frederick|         21|         Johnny Kidd|       25|\n|       0|     6|Laura Frederick|         21|     Heather Hawkins|       25|\n|       0|     7|Laura Frederick|         21|     Brittney Wilson|       19|\n|       0|     8|Laura Frederick|         21|          Nicole May|       23|\n|       0|     9|Laura Frederick|         21|      Tara Mcconnell|       23|\n|       0|    10|Laura Frederick|         21|      Michelle Hines|       23|\n|       0|    11|Laura Frederick|         21|     Charles Wallace|       20|\n|       0|    12|Laura Frederick|         21|          Dana Garza|       20|\n|       0|    13|Laura Frederick|         21|       Matthew Woods|       24|\n|       0|    14|Laura Frederick|         21|      Kristin Wilson|       19|\n|       0|    15|Laura Frederick|         21|          Jeff Kline|       24|\n|       0|    16|Laura Frederick|         21|       Eric Phillips|       25|\n|       0|    17|Laura Frederick|         21|     Nicholas Medina|       24|\n|       0|    18|Laura Frederick|         21|          Danny Cook|       22|\n|       0|    19|Laura Frederick|         21|     Leonard Schmidt|       20|\n|       0|    20|Laura Frederick|         21|          Daryl Webb|       20|\n|       0|    21|Laura Frederick|         21|    Jennifer Mendoza|       19|\n|       0|    22|Laura Frederick|         21|       James Rollins|       21|\n|       0|    23|Laura Frederick|         21|         John Martin|       23|\n|       0|    24|Laura Frederick|         21|    Christina Horton|       23|\n|       0|    25|Laura Frederick|         21|       Steven Hinton|       23|\n|       0|    26|Laura Frederick|         21|           Amy Davis|       23|\n|       0|    27|Laura Frederick|         21|          Jesse Meza|       23|\n|       0|    28|Laura Frederick|         21|           Jacob Kim|       21|\n|       0|    29|Laura Frederick|         21|        Shelby Silva|       23|\n|       0|    30|Laura Frederick|         21|     Heather Jackson|       23|\n|       0|    31|Laura Frederick|         21|         Sandra Howe|       25|\n|       0|    32|Laura Frederick|         21|         Louis Green|       24|\n|       0|    33|Laura Frederick|         21|       Valerie Baker|       23|\n|       0|    34|Laura Frederick|         21|        Kristin Cook|       25|\n|       0|    35|Laura Frederick|         21|    Ashley Carpenter|       18|\n|       0|    36|Laura Frederick|         21|          Kelly Ward|       21|\n|       0|    37|Laura Frederick|         21|      Deborah Campos|       20|\n|       0|    38|Laura Frederick|         21|        Bryan Moreno|       20|\n|       0|    39|Laura Frederick|         21|      Melissa Murphy|       20|\n|       0|    40|Laura Frederick|         21|        Brian Wilson|       24|\n|       0|    41|Laura Frederick|         21|      Stephanie Vega|       21|\n|       0|    42|Laura Frederick|         21|         John Acosta|       18|\n|       0|    43|Laura Frederick|         21|    Richard Mitchell|       18|\n|       0|    44|Laura Frederick|         21|      Robert Daniels|       21|\n|       0|    45|Laura Frederick|         21|Mrs. Amanda Gonzales|       21|\n|       0|    46|Laura Frederick|         21|        Mark Hawkins|       21|\n|       0|    47|Laura Frederick|         21|        Jill Schmidt|       25|\n|       0|    48|Laura Frederick|         21|  Jeffrey Richardson|       25|\n|       0|    49|Laura Frederick|         21|       Steven Graham|       23|\n|       0|    50|Laura Frederick|         21|        Amanda Brown|       19|\n|       0|    51|Laura Frederick|         21|      Erin Wilkerson|       21|\n|       0|    52|Laura Frederick|         21|Jennifer Campbell...|       18|\n|       0|    53|Laura Frederick|         21|       Jeremy Crosby|       22|\n|       0|    54|Laura Frederick|         21|     Catherine Banks|       23|\n|       0|    55|Laura Frederick|         21|       Sarah Whitney|       24|\n|       0|    56|Laura Frederick|         21|          Jay Rogers|       24|\n|       0|    57|Laura Frederick|         21|          James Reid|       25|\n|       0|    58|Laura Frederick|         21|       Teresa Garcia|       25|\n|       0|    59|Laura Frederick|         21|    Brandon Petersen|       21|\n|       0|    60|Laura Frederick|         21|        Mathew Glass|       24|\n|       0|    61|Laura Frederick|         21|   Christopher Ortiz|       21|\n|       0|    62|Laura Frederick|         21|         Hannah Shea|       22|\n|       0|    63|Laura Frederick|         21|       Darryl Davila|       24|\n|       0|    64|Laura Frederick|         21|          Tara Lopez|       21|\n|       0|    65|Laura Frederick|         21|      Patricia Kelly|       20|\n|       0|    66|Laura Frederick|         21|   Benjamin Sullivan|       23|\n|       0|    67|Laura Frederick|         21|           Diana Fox|       20|\n|       0|    68|Laura Frederick|         21|        Morgan Young|       21|\n|       0|    69|Laura Frederick|         21|         Lisa Rogers|       22|\n|       0|    70|Laura Frederick|         21|         Brian Horne|       22|\n|       0|    71|Laura Frederick|         21|        Joann Hudson|       24|\n|       0|    72|Laura Frederick|         21|      Erik Davis DDS|       20|\n|       0|    73|Laura Frederick|         21|        Heather Lutz|       25|\n|       0|    74|Laura Frederick|         21|     Richard Cordova|       24|\n|       0|    75|Laura Frederick|         21|        Brett Nelson|       20|\n|       0|    76|Laura Frederick|         21|        Natalie Leon|       19|\n|       0|    77|Laura Frederick|         21|          Heidi Ryan|       19|\n|       0|    78|Laura Frederick|         21|        Diane Morris|       23|\n|       0|    79|Laura Frederick|         21|         Nancy Reyes|       24|\n|       0|    80|Laura Frederick|         21|    Miss Sarah Baker|       21|\n|       0|    81|Laura Frederick|         21|    Mr. Brian Hunter|       20|\n|       0|    82|Laura Frederick|         21|      Gary Dougherty|       22|\n|       0|    83|Laura Frederick|         21|       Ray Rodriguez|       19|\n|       0|    84|Laura Frederick|         21|        Angela Smith|       18|\n|       0|    85|Laura Frederick|         21|        Lisa Daniels|       21|\n|       0|    86|Laura Frederick|         21|      Sarah Marshall|       19|\n|       0|    87|Laura Frederick|         21|      William Palmer|       19|\n|       0|    88|Laura Frederick|         21|        Hunter Bates|       18|\n|       0|    89|Laura Frederick|         21|      Charles Jacobs|       24|\n|       0|    90|Laura Frederick|         21|          Derek Tate|       22|\n|       0|    91|Laura Frederick|         21|       Steven Thomas|       20|\n|       0|    92|Laura Frederick|         21|        Ryan Collins|       21|\n|       0|    93|Laura Frederick|         21|        Samuel Berry|       21|\n|       0|    94|Laura Frederick|         21|     Rebecca Preston|       20|\n|       0|    95|Laura Frederick|         21|       Richard Moore|       22|\n|       0|    96|Laura Frederick|         21|     Ronald Morrison|       18|\n|       0|    97|Laura Frederick|         21|     Brandon Barrett|       19|\n|       0|    98|Laura Frederick|         21|      Christian Ball|       25|\n|       0|    99|Laura Frederick|         21|       Ronnie Jordan|       21|\n|       0|   100|Laura Frederick|         21|       Shelly Romero|       20|\n+--------+------+---------------+-----------+--------------------+---------+\nonly showing top 100 rows\n\n"
          ]
        }
      ],
      "source": [
        "# Change column\n",
        "column1 = \"FromUser\"\n",
        "column2 = \"ToUser\"\n",
        "df_facebook = change_column_name(df_facebook, column1, column2)\n",
        "\n",
        "# Create object faker\n",
        "faker = Faker()\n",
        "df_name = create_df_name(faker)\n",
        "df_age = create_df_age(faker)\n",
        "\n",
        "# Join and Match data\n",
        "df_facebook = join_dataframe(df_facebook, df_name, df_age)\n",
        "\n",
        "# Show result\n",
        "df_facebook.show(100)"
      ]
    },
    {
      "cell_type": "markdown",
      "source": [
        "# **Load processed data into Storage (container \"processed\")**\n",
        "\n",
        "\n"
      ],
      "metadata": {
        "id": "rZ9S3Fyk7lP1"
      }
    },
    {
      "cell_type": "markdown",
      "source": [
        "### **Option 1**"
      ],
      "metadata": {
        "id": "RimgwTFClevr"
      }
    },
    {
      "cell_type": "code",
      "source": [
        "# Load 4 processed partition files into Data Storage\n",
        "df_facebook.write.option(\"header\", True).mode(\"overwrite\").csv(\"abfss://processed@mxh.dfs.core.windows.net/facebook_processed\")"
      ],
      "metadata": {
        "id": "q0ExIE3Zsuxe"
      },
      "execution_count": null,
      "outputs": []
    },
    {
      "cell_type": "markdown",
      "source": [
        "### **Option 2**"
      ],
      "metadata": {
        "id": "aHcYV-QVlhK1"
      }
    },
    {
      "cell_type": "code",
      "source": [
        "# Load 1 processed partition file into Data Storage\n",
        "df_facebook.coalesce(1).write.option(\"header\", True).mode(\"overwrite\").csv(\"abfss://processed@mxh.dfs.core.windows.net/facebook_processed\")"
      ],
      "metadata": {
        "id": "qOc3pMIas3nm"
      },
      "execution_count": null,
      "outputs": []
    }
  ],
  "metadata": {
    "application/vnd.databricks.v1+notebook": {
      "dashboards": [],
      "language": "python",
      "notebookMetadata": {
        "pythonIndentUnit": 4
      },
      "notebookName": "batch_processing",
      "widgets": {}
    },
    "colab": {
      "provenance": []
    }
  },
  "nbformat": 4,
  "nbformat_minor": 0
}